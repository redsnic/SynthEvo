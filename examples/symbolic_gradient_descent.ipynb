{
 "cells": [
  {
   "attachments": {},
   "cell_type": "markdown",
   "metadata": {},
   "source": [
    "### Guide: SynthEvo and symbolic gradient descent\n",
    "\n",
    "This notebook present how to use SynthEvo's symbolic gradient descent capabilities to optimize a CRN model.\n",
    "\n",
    "We will consider the case of Near-Perfect adaptation, using the loss function presented in the CDC paper."
   ]
  },
  {
   "cell_type": "code",
   "execution_count": null,
   "metadata": {},
   "outputs": [],
   "source": [
    "# loading SynthEvo\n"
   ]
  }
 ],
 "metadata": {
  "kernelspec": {
   "display_name": "Julia 1.10.1",
   "language": "julia",
   "name": "julia-1.10"
  },
  "language_info": {
   "name": "julia"
  },
  "orig_nbformat": 4
 },
 "nbformat": 4,
 "nbformat_minor": 2
}
