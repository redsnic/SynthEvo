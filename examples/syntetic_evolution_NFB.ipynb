{
 "cells": [
  {
   "attachments": {},
   "cell_type": "markdown",
   "metadata": {},
   "source": [
    "## Guide: Finding NFB topologies\n",
    "\n",
    "In this notebook we present our metodology to add selective pressure to the genetic algorithm to support the discovery of NFB-like topologies. For more details on the single steps, check also `synthetic_evolution_sensitivity.ipynb`."
   ]
  },
  {
   "cell_type": "code",
   "execution_count": 1,
   "metadata": {},
   "outputs": [
    {
     "ename": "ArgumentError",
     "evalue": "ArgumentError: Package SynthEvo not found in current path.\n- Run `import Pkg; Pkg.add(\"SynthEvo\")` to install the SynthEvo package.",
     "output_type": "error",
     "traceback": [
      "ArgumentError: Package SynthEvo not found in current path.\n",
      "- Run `import Pkg; Pkg.add(\"SynthEvo\")` to install the SynthEvo package.\n",
      "\n",
      "Stacktrace:\n",
      "  [1] macro expansion\n",
      "    @ ./loading.jl:1772 [inlined]\n",
      "  [2] macro expansion\n",
      "    @ ./lock.jl:267 [inlined]\n",
      "  [3] __require(into::Module, mod::Symbol)\n",
      "    @ Base ./loading.jl:1753\n",
      "  [4] #invoke_in_world#3\n",
      "    @ ./essentials.jl:926 [inlined]\n",
      "  [5] invoke_in_world\n",
      "    @ ./essentials.jl:923 [inlined]\n",
      "  [6] require(into::Module, mod::Symbol)\n",
      "    @ Base ./loading.jl:1746\n",
      "  [7] eval\n",
      "    @ ./boot.jl:385 [inlined]\n",
      "  [8] include_string(mapexpr::typeof(REPL.softscope), mod::Module, code::String, filename::String)\n",
      "    @ Base ./loading.jl:2076\n",
      "  [9] #invokelatest#2\n",
      "    @ ./essentials.jl:892 [inlined]\n",
      " [10] invokelatest\n",
      "    @ ./essentials.jl:889 [inlined]\n",
      " [11] (::VSCodeServer.var\"#216#217\"{VSCodeServer.NotebookRunCellArguments, String})()\n",
      "    @ VSCodeServer ~/.vscode/extensions/julialang.language-julia-1.76.2/scripts/packages/VSCodeServer/src/serve_notebook.jl:19\n",
      " [12] withpath(f::VSCodeServer.var\"#216#217\"{VSCodeServer.NotebookRunCellArguments, String}, path::String)\n",
      "    @ VSCodeServer ~/.vscode/extensions/julialang.language-julia-1.76.2/scripts/packages/VSCodeServer/src/repl.jl:274\n",
      " [13] notebook_runcell_request(conn::VSCodeServer.JSONRPC.JSONRPCEndpoint{Base.PipeEndpoint, Base.PipeEndpoint}, params::VSCodeServer.NotebookRunCellArguments)\n",
      "    @ VSCodeServer ~/.vscode/extensions/julialang.language-julia-1.76.2/scripts/packages/VSCodeServer/src/serve_notebook.jl:13\n",
      " [14] dispatch_msg(x::VSCodeServer.JSONRPC.JSONRPCEndpoint{Base.PipeEndpoint, Base.PipeEndpoint}, dispatcher::VSCodeServer.JSONRPC.MsgDispatcher, msg::Dict{String, Any})\n",
      "    @ VSCodeServer.JSONRPC ~/.vscode/extensions/julialang.language-julia-1.76.2/scripts/packages/JSONRPC/src/typed.jl:67\n",
      " [15] serve_notebook(pipename::String, outputchannel_logger::Base.CoreLogging.SimpleLogger; crashreporting_pipename::String)\n",
      "    @ VSCodeServer ~/.vscode/extensions/julialang.language-julia-1.76.2/scripts/packages/VSCodeServer/src/serve_notebook.jl:139\n",
      " [16] top-level scope\n",
      "    @ ~/.vscode/extensions/julialang.language-julia-1.76.2/scripts/notebook/notebook.jl:35"
     ]
    }
   ],
   "source": [
    "using SynthEvo\n",
    "\n",
    "# load the CRN\n",
    "C = make_FullyConnectedNonExplosive_CRN(3)\n",
    "t0 = 10.\n",
    "t1 = 20.\n",
    "input = 1.\n",
    "\n",
    "# prepare ODE problems for the state and sensitivities\n",
    "base_problem_ode = make_base_problem_for_FCNE_CRN(C, C.ext_ode, t0, input) # this is faster to compute\n",
    "base_problem_ext = make_base_problem_for_FCNE_CRN(C, C.ext_ode, t0, input)\n",
    "\n",
    "nothing"
   ]
  },
  {
   "attachments": {},
   "cell_type": "markdown",
   "metadata": {},
   "source": [
    "#### Near-Perfect Adaptation setup\n",
    "\n",
    "We will omit some details as they are already coveres in the guide `symbolic_gradient_descent.ipynb`."
   ]
  },
  {
   "cell_type": "code",
   "execution_count": 2,
   "metadata": {},
   "outputs": [
    {
     "ename": "UndefVarError",
     "evalue": "UndefVarError: `SynthEvo` not defined",
     "output_type": "error",
     "traceback": [
      "UndefVarError: `SynthEvo` not defined\n",
      "\n",
      "Stacktrace:\n",
      " [1] top-level scope\n",
      "   @ /local0/scratch/git/SynthEvo/examples/syntetic_evolution_NFB.ipynb:2"
     ]
    }
   ],
   "source": [
    "# set up the loss function for near-perfect adaptation\n",
    "loss1 = SynthEvo.adaptation_loss(C, 1, 3, 10., 20.)\n",
    "loss2 = SynthEvo.sensitivity_loss(C, 1, 3, 0.25, 10., 10.5)\n",
    "loss3 = SynthEvo.steady_state_loss(C, 2, 10., 20., 6, 16.)\n",
    "loss4 = SynthEvo.regularization_loss(C, 1)\n",
    "l = SynthEvo.weighted_loss([loss1, loss2, loss3, loss4], [10,1,100,0.02])\n",
    "\n",
    "perturbation_list = [0, 0.25, 0.75, 1, 1.5, 2, 3, 4, 5, 6, 7, 8]\n",
    "\n",
    "gd_options = (\n",
    "    n_iter = 50,\n",
    "    verbose = false,\n",
    "    use_random_perturbation = false, \n",
    "    use_pruning_heuristic = false,\n",
    "    clip_value = nothing,\n",
    "    use_gradient_normalization = false,\n",
    "    use_gradient_noise = false,\n",
    "    fraction_gradient_noise = 0.01,\n",
    "    alpha = 0.1,\n",
    "    use_adam = false,\n",
    "    ADAM_beta1 = 0.9,\n",
    "    ADAM_beta2 = 0.9,\n",
    "    use_adagrad = true\n",
    ")\n",
    "\n",
    "gd_perturbation_options = (\n",
    "    t0 = t0,\n",
    "    t1 = t1,\n",
    "    loss_fun = l,\n",
    "    input = input,\n",
    "    perturbation_list = perturbation_list\n",
    ")\n",
    "\n",
    "# for the NFB run, we use functions for the choices of the GA actions \n",
    "# this helps in tuning the probabilities based on the rank of the individual particle in \n",
    "# the population (genetic pool) \n",
    "\n",
    "ga_options = (\n",
    "    genetic_pool_size = 100,\n",
    "    elite = 0,\n",
    "    worst = 0,\n",
    "    death_rate = (rank) -> 0.05*(rank),\n",
    "    mutation_rate = (rank) -> 0.25,\n",
    "    gradient_mutation_rate = (rank) -> 0.01*(1-rank),\n",
    "    duplication_rate = (rank) -> 0.20*(1-rank),\n",
    "    crossover_rate = (rank) -> 0.0*(1-rank),\n",
    "    max_generations = 10,\n",
    "    p_cross = 0.05,\n",
    "    dp = 0.05,\n",
    ")\n",
    "\n",
    "ga_perturbation_options = (\n",
    "    use_random_perturbation = false,\n",
    "    t0 = t0,\n",
    "    t1 = t1,\n",
    "    loss_fun = l,\n",
    "    input = input,\n",
    "    perturbation_list = perturbation_list\n",
    ")\n",
    "\n",
    "mutate_with_GD = (p) -> SynthEvo.symbolic_gradient_descent(p, C, gd_options, gd_perturbation_options).parameters\n",
    "\n",
    "ga_loss = SynthEvo.prepare_GA_loss(C, base_problem_ode, ga_perturbation_options)\n",
    "\n",
    "nothing"
   ]
  },
  {
   "attachments": {},
   "cell_type": "markdown",
   "metadata": {},
   "source": [
    "### running the genetic algorithm\n",
    "\n",
    "This can be simply done by initializing a random state and then calling the `symbolic_evolve_NFB` function iteratively. This function is analog to `symbolic_evolve` but it is designed to \n",
    "have random perturbations in the degradation of the output species. This is something that IFF topologies cannot comensate for. In addition we remove elitism, to avoid selectig for topologies that are not robust to parameter changes.\n",
    "\n",
    "We need to find the parameter related to the outupt species degradation: "
   ]
  },
  {
   "cell_type": "code",
   "execution_count": 3,
   "metadata": {},
   "outputs": [
    {
     "name": "stderr",
     "output_type": "stream",
     "text": [
      "WARNING: Method definition getname(Symbol) in module SymbolicIndexingInterface at /home/rossin/.julia/packages/SymbolicIndexingInterface/hvaHJ/src/trait.jl:64 overwritten in module Symbolics at /home/rossin/.julia/packages/Symbolics/GQNQy/src/wrapper-types.jl:20.\n",
      "ERROR: Method overwriting is not permitted during Module precompilation. Use `__precompile__(false)` to opt-out of precompilation.\n",
      "WARNING: Method definition getname(Symbol) in module SymbolicIndexingInterface at /home/rossin/.julia/packages/SymbolicIndexingInterface/hvaHJ/src/trait.jl:64 overwritten in module Symbolics at /home/rossin/.julia/packages/Symbolics/GQNQy/src/wrapper-types.jl:20.\n",
      "ERROR: Method overwriting is not permitted during Module precompilation. Use `__precompile__(false)` to opt-out of precompilation.\n"
     ]
    }
   ],
   "source": [
    "using Catalyst\n",
    "output_degradation_parameter = 29 \n",
    "reactions(C.crn)[29+1] # as the 1st is the input reaction"
   ]
  },
  {
   "attachments": {},
   "cell_type": "markdown",
   "metadata": {},
   "source": [
    "Then we can proceed with the evolution."
   ]
  },
  {
   "cell_type": "code",
   "execution_count": null,
   "metadata": {},
   "outputs": [],
   "source": [
    "using ProgressBars\n",
    "max_generations = ga_options.max_generations\n",
    "\n",
    "state = initialize_state(C.number_of_parameters, ga_options, \"LHC\")\n",
    "\n",
    "iter = ProgressBar(1:max_generations)\n",
    "for i in iter\n",
    "    state = SynthEvo.symbolic_evolve_NFB(ga_loss, state, mutate_with_GD, ga_options, output_degradation_parameter, 0.1)\n",
    "    set_postfix(iter, avg_loss=state.history.mean_loss[end], best_loss=state.history.best_loss[end])\n",
    "end"
   ]
  },
  {
   "attachments": {},
   "cell_type": "markdown",
   "metadata": {},
   "source": [
    "### Plotting the results"
   ]
  },
  {
   "cell_type": "code",
   "execution_count": null,
   "metadata": {},
   "outputs": [],
   "source": [
    "plot_history(state)"
   ]
  },
  {
   "cell_type": "code",
   "execution_count": null,
   "metadata": {},
   "outputs": [],
   "source": [
    "argmin(state.fitness)"
   ]
  },
  {
   "cell_type": "code",
   "execution_count": null,
   "metadata": {},
   "outputs": [],
   "source": [
    "opt_index = argmin(state.fitness)\n",
    "\n",
    "SynthEvo.quick_trajectory_plot(C, state.pool[opt_index], 1, gd_perturbation_options.perturbation_list, t0, t1, 3)"
   ]
  },
  {
   "attachments": {},
   "cell_type": "markdown",
   "metadata": {},
   "source": [
    "### Evaluating the homeostatic indicator"
   ]
  },
  {
   "cell_type": "code",
   "execution_count": null,
   "metadata": {},
   "outputs": [],
   "source": [
    "homeostatic_coefs = [\n",
    "    compute_homeostatic_coefficient(C, p, 1, 2.5, 10., 20.)\n",
    "    for p in state.pool\n",
    "]\n",
    "\n",
    "nothing"
   ]
  },
  {
   "cell_type": "code",
   "execution_count": null,
   "metadata": {},
   "outputs": [],
   "source": [
    "using LaTeXStrings, Plots\n",
    "# we remove the outliers (networks that are not adapting)\n",
    "x = [h.A_22_A_31 for h in homeostatic_coefs if abs(h.coefficient)<1]\n",
    "y = [h.A_21_A_32 for h in homeostatic_coefs if abs(h.coefficient)<1]\n",
    "scatter(x, y, title=\"Homeostatic indicator components\", xlabel=L\"A_{22}A_{31}\", ylabel=L\"A_{21}_A_{32}\", legend=false, label=false)\n",
    "plot!([-1000, 1000], [-1000, 1000], color=:red, linestyle=:dash, label=\"theoretical IFF line\", legend=:bottomright)\n",
    "xlims!(minimum(x)-0.1, maximum(x)+0.1)\n",
    "ylims!(minimum(y)-0.1, maximum(y)+0.1)"
   ]
  },
  {
   "cell_type": "code",
   "execution_count": null,
   "metadata": {},
   "outputs": [],
   "source": [
    "NFB_indexes = [i for i in 1:length(homeostatic_coefs) if abs(homeostatic_coefs[i].A_22_A_31) + abs(homeostatic_coefs[i].A_21_A_32) < 0.3]\n",
    "for i in NFB_indexes\n",
    "    println(\"Network $i :: hc=\", homeostatic_coefs[i].coefficient, \" :: f=\", state.fitness[i])\n",
    "end"
   ]
  },
  {
   "cell_type": "code",
   "execution_count": null,
   "metadata": {},
   "outputs": [],
   "source": [
    "idx = 3\n",
    "println(\"Network $idx :: hc=\", homeostatic_coefs[idx].coefficient, \" :: f=\", state.fitness[idx])"
   ]
  }
 ],
 "metadata": {
  "kernelspec": {
   "display_name": "Julia 1.10.1",
   "language": "julia",
   "name": "julia-1.10"
  },
  "language_info": {
   "file_extension": ".jl",
   "mimetype": "application/julia",
   "name": "julia",
   "version": "1.10.1"
  },
  "orig_nbformat": 4
 },
 "nbformat": 4,
 "nbformat_minor": 2
}
