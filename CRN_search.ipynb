{
 "cells": [
  {
   "cell_type": "code",
   "execution_count": null,
   "metadata": {},
   "outputs": [],
   "source": [
    "include(\"CRNExplore.jl\") # NOTE never ever use t as a variable anywhere in this notebook!"
   ]
  },
  {
   "cell_type": "code",
   "execution_count": null,
   "metadata": {},
   "outputs": [],
   "source": [
    "N = 3\n",
    "tspan = (0., 20.)\n",
    "np = count_parameters(N)\n",
    "p0 = rand(np)\n",
    "crn_p = assemble_opt_parameters_and_varables(p0, N)\n",
    "crn = create_reactions(N)\n",
    "prob = ODEProblem(crn, crn_p.u0, tspan, crn_p.p, maxiter=100)\n",
    "\n",
    "\n",
    "input = 1.\n",
    "intensity = 20.\n",
    "perturb! = make_perturbation_event(input, intensity)\n",
    "\n",
    "target = N\n",
    "sensitivity_dt = 1.\n",
    "sensitivity_offset = 0.4\n",
    "steady_d = 1.0\n",
    "K = 10\n",
    "\n",
    "l1 = 0.0#10.0\n",
    "l2 = 0.0\n",
    "l3 = 1.0\n",
    "l4 = 0.\n",
    "\n",
    "rtol = 1e-12\n",
    "atol = 1e-12\n",
    "maxiters = 2000\n",
    "\n",
    "absolute = true\n",
    "use_adagrad = true\n",
    "\n",
    "s_loss = stochastic_loss(K, prob, perturb!, tspan, target, tspan[2]/2., tspan[2], sensitivity_dt, sensitivity_offset, steady_d, l1, l2, l3, l4, absolute, rtol, atol, maxiters)\n",
    "\n",
    "ALPHA = 0.1\n",
    "NITER = 10\n",
    "kill_on_clip = true\n",
    "optsol = gradient_descent(ALPHA, NITER, p0, s_loss, true, true, 0.1/ALPHA, use_adagrad, kill_on_clip)\n",
    "print(\"done\")"
   ]
  },
  {
   "cell_type": "code",
   "execution_count": null,
   "metadata": {},
   "outputs": [],
   "source": [
    "#continue from optsol\n",
    "optsol = gradient_descent(ALPHA, NITER, optsol.minimizer, s_loss, true, true, 0.1/ALPHA, use_adagrad, kill_on_clip)\n",
    "print(\"done\")"
   ]
  },
  {
   "attachments": {},
   "cell_type": "markdown",
   "metadata": {},
   "source": [
    "### Visualization"
   ]
  },
  {
   "cell_type": "code",
   "execution_count": null,
   "metadata": {},
   "outputs": [],
   "source": [
    "using Loess"
   ]
  },
  {
   "cell_type": "code",
   "execution_count": null,
   "metadata": {},
   "outputs": [],
   "source": [
    "typeof(optsol.losses)"
   ]
  },
  {
   "cell_type": "code",
   "execution_count": null,
   "metadata": {},
   "outputs": [],
   "source": [
    "plot(1:length(optsol.losses), optsol.losses, label=\"loss\", xlabel=\"iteration\", ylabel=\"loss\", title=\"Loss vs iteration\", lw=2, legend=:topright)\n",
    "# smooth interpolation of the loss\n",
    "model = loess(1:length(optsol.losses), optsol.losses, span=0.5)\n",
    "predictions = predict(model, 1:length(optsol.losses))\n",
    "plot!(1:length(optsol.losses), predictions, label=\"smoothed loss\", lw=2, line=:dash)"
   ]
  },
  {
   "cell_type": "code",
   "execution_count": null,
   "metadata": {},
   "outputs": [],
   "source": [
    "plot(1:length(optsol.grads), vec2mat(optsol.grads)[:,1:end], label=\"gradients\", xlabel=\"iteration\", ylabel=\"gradients\", title=\"gradients vs iteration\", lw=2, legend=false)"
   ]
  },
  {
   "cell_type": "code",
   "execution_count": null,
   "metadata": {},
   "outputs": [],
   "source": [
    "plot(1:length(optsol.pars), vec2mat(optsol.pars)[:,1:end], label=\"parameters\", xlabel=\"iteration\", ylabel=\"parameters\", title=\"parameters vs iteration\", lw=2, legend=false)"
   ]
  },
  {
   "cell_type": "code",
   "execution_count": null,
   "metadata": {},
   "outputs": [],
   "source": [
    "histogram(optsol.pars[argmin(optsol.losses)], label=\"parameters\", xlabel=\"parameters\", ylabel=\"frequency\", title=\"parameters distribution\", lw=2, legend=false, bins=100)"
   ]
  },
  {
   "cell_type": "code",
   "execution_count": null,
   "metadata": {},
   "outputs": [],
   "source": [
    "length(findall(x -> x .> 0., optsol.pars[argmin(optsol.losses)]))"
   ]
  },
  {
   "cell_type": "code",
   "execution_count": null,
   "metadata": {},
   "outputs": [],
   "source": [
    "best_pars = length(optsol.pars) \n",
    "#best_pars = argmin(optsol.losses)\n",
    "println(\"ok\")"
   ]
  },
  {
   "cell_type": "code",
   "execution_count": null,
   "metadata": {},
   "outputs": [],
   "source": [
    "# test Dynamics\n",
    "p = optsol.pars[best_pars]\n",
    "#p[:30] = 100.\n",
    "perturbation = 2.\n",
    "input = 1.\n",
    "prob_p = assemble_opt_parameters_and_varables(p, N)\n",
    "max_t = 20.\n",
    "n_perturb = 2\n",
    "condition = [ max_t - max_t/n_perturb*(i) for i in 1:n_perturb-1]\n",
    "affect! = make_perturbation_event(input, perturbation)\n",
    "prob = ODEProblem(crn, prob_p.u0, (0., max_t), prob_p.p)\n",
    "ps_cb = PresetTimeCallback(condition, affect!)\n",
    "sol = solve(prob, Tsit5(), reltol=1e-8, abstol=1e-8, callback=ps_cb)\n",
    "loss = s_loss(p)\n",
    "plt1 = plot(sol.t[1:end], vec2mat(sol.u[1:end])[:,1:end]; lw = 1)\n",
    "plt2 = plot(sol.t[1:end], vec2mat(sol.u[1:end])[:,N]; lw = 1)\n",
    "#plot(plt1, plt2, layout=(2,1), legend=false, title = \"L:$(loss), P$(perturbation)\")\n",
    "plot(plt1)"
   ]
  },
  {
   "cell_type": "code",
   "execution_count": null,
   "metadata": {},
   "outputs": [],
   "source": [
    "r = vec2mat(sol.u)[end,N]\n",
    "plot(sol.t, vec2mat(sol.u)[:,N]; lw = 1, ylims=(r-0.2, r+0.2), label=\"y3\", color=\"green\")"
   ]
  },
  {
   "attachments": {},
   "cell_type": "markdown",
   "metadata": {},
   "source": [
    "### Symbolic things"
   ]
  },
  {
   "cell_type": "code",
   "execution_count": null,
   "metadata": {},
   "outputs": [],
   "source": [
    "# helper functions for substituting symbols in dictionaries\n",
    "unsym = (x) -> eval(Meta.parse(string(x)))\n",
    "unsym_dict = (d) -> Dict([unsym(k) => v for (k,v) in d])\n",
    "# compute the symbolic jacobian\n",
    "ode_sys = convert(ODESystem, crn)"
   ]
  },
  {
   "cell_type": "code",
   "execution_count": null,
   "metadata": {},
   "outputs": [],
   "source": [
    "par_for_sym = assemble_opt_parameters_and_varables(optsol.pars[best_pars], N)\n",
    "par_for_sym.p[:U] = sol.u[end][end]\n",
    "par_u0 = unsym_dict([ ((par_for_sym.u0[i][1]), sol.u[end][i]) for i in 1:N])"
   ]
  },
  {
   "cell_type": "code",
   "execution_count": null,
   "metadata": {},
   "outputs": [],
   "source": [
    "reduced_ode = substitute(ode_sys, unsym_dict(par_for_sym.p))"
   ]
  },
  {
   "cell_type": "code",
   "execution_count": null,
   "metadata": {},
   "outputs": [],
   "source": [
    "# eval in u0\n",
    "[\n",
    "    substitute(equations(reduced_ode)[1].rhs, par_u0),\n",
    "    substitute(equations(reduced_ode)[2].rhs, par_u0),\n",
    "    substitute(equations(reduced_ode)[3].rhs, par_u0)\n",
    "]"
   ]
  },
  {
   "cell_type": "code",
   "execution_count": null,
   "metadata": {},
   "outputs": [],
   "source": [
    "jac = calculate_jacobian(reduced_ode)"
   ]
  },
  {
   "cell_type": "code",
   "execution_count": null,
   "metadata": {},
   "outputs": [],
   "source": [
    "equations(reduced_ode)[1].rhs"
   ]
  },
  {
   "cell_type": "code",
   "execution_count": null,
   "metadata": {},
   "outputs": [],
   "source": [
    "Symbolics.derivative(equations(reduced_ode)[1].rhs, x_3)"
   ]
  },
  {
   "cell_type": "code",
   "execution_count": null,
   "metadata": {},
   "outputs": [],
   "source": [
    "Symbolics.derivative(equations(ode_sys)[1].rhs, eval(Meta.parse(string([k for (i, (k, v)) in enumerate(par_for_sym.p)][1]))))"
   ]
  },
  {
   "cell_type": "code",
   "execution_count": null,
   "metadata": {},
   "outputs": [],
   "source": [
    "ode_sys"
   ]
  },
  {
   "attachments": {},
   "cell_type": "markdown",
   "metadata": {},
   "source": [
    "### Sensitivities and Symbolic Differentiation"
   ]
  },
  {
   "cell_type": "code",
   "execution_count": null,
   "metadata": {},
   "outputs": [],
   "source": [
    "n_losses = 4"
   ]
  },
  {
   "cell_type": "code",
   "execution_count": null,
   "metadata": {},
   "outputs": [],
   "source": [
    "include(\"SymbolicOps.jl\")"
   ]
  },
  {
   "cell_type": "code",
   "execution_count": null,
   "metadata": {},
   "outputs": [],
   "source": [
    "ode_sys"
   ]
  },
  {
   "cell_type": "code",
   "execution_count": null,
   "metadata": {},
   "outputs": [],
   "source": [
    "Symbolics.derivative(equations(ode_sys)[3].rhs, k_1)"
   ]
  },
  {
   "cell_type": "code",
   "execution_count": null,
   "metadata": {},
   "outputs": [],
   "source": [
    "crn = create_reactions(N)\n",
    "ode_sys = convert(ODESystem, crn)\n",
    "sensitivity(ode_sys, pars_l.p)"
   ]
  },
  {
   "cell_type": "code",
   "execution_count": null,
   "metadata": {},
   "outputs": [],
   "source": [
    "t0 = 10.\n",
    "t1 = 20."
   ]
  },
  {
   "cell_type": "code",
   "execution_count": null,
   "metadata": {},
   "outputs": [],
   "source": [
    "adaptation_loss_eval(adaptation_loss_symbolic(1), sol, 1, t0, t1)\n",
    "adaptation_loss_symbolic(1)"
   ]
  },
  {
   "cell_type": "code",
   "execution_count": null,
   "metadata": {},
   "outputs": [],
   "source": [
    "sensitivity_loss_eval(sensitivity_loss_symbolic(1), sol, 1, 1., 2., 0.2)\n",
    "sensitivity_loss_symbolic(1)"
   ]
  },
  {
   "cell_type": "code",
   "execution_count": null,
   "metadata": {},
   "outputs": [],
   "source": [
    "steady_state_loss_eval(steady_state_loss_symbolic(1), sol, 1., 1., 0.5)#\n",
    "#steady_state_loss_symbolic(N)"
   ]
  },
  {
   "cell_type": "code",
   "execution_count": null,
   "metadata": {},
   "outputs": [],
   "source": [
    "L1_loss_eval(L1_loss_symbolic(3,par_for_sym.p), par_for_sym.p)"
   ]
  },
  {
   "cell_type": "code",
   "execution_count": null,
   "metadata": {},
   "outputs": [],
   "source": [
    "N=3\n",
    "t0 = 10.\n",
    "t1 = 20.\n",
    "losses_arguments = [\n",
    "    (\n",
    "        eval = sensitivity_loss_eval,\n",
    "        sym = sensitivity_loss_symbolic(N),\n",
    "        args = (sol, 1, 1., 2., 0.2), # sol, t0, t1, p, d\n",
    "        weight = 1.\n",
    "    ),\n",
    "    (\n",
    "        eval = steady_state_loss_eval,\n",
    "        sym = steady_state_loss_symbolic(N),\n",
    "        args = (sol, 1., 2., 0.5), # sol, t0, t1, f_ss\n",
    "        weight = 2.\n",
    "    ),\n",
    "    (\n",
    "        eval = L1_loss_eval,\n",
    "        sym = L1_loss_symbolic(N, par_for_sym.p), # N, p\n",
    "        args = ([par_for_sym.p]), # p\n",
    "        weight = 0.01\n",
    "    ),\n",
    "    (\n",
    "        eval = adaptation_loss_eval,\n",
    "        sym = adaptation_loss_symbolic(N), # N\n",
    "        args = (sol, 1, t0, t1), # sol, target, t0, t1\n",
    "        weight = 1.\n",
    "    )\n",
    "]\n",
    "\n",
    "total_loss_sym = total_loss_symbolic(losses_arguments)"
   ]
  },
  {
   "cell_type": "code",
   "execution_count": null,
   "metadata": {},
   "outputs": [],
   "source": [
    "total_loss_eval(losses_arguments)"
   ]
  },
  {
   "cell_type": "code",
   "execution_count": null,
   "metadata": {},
   "outputs": [],
   "source": [
    "ode_outs = [\n",
    "    [o_t0, o_t1, o_t0pdt, o_t1];\n",
    "    [at_t0[i] for i in 1:N];\n",
    "    [at_t1[i] for i in 1:N];\n",
    "    [at_t0_d[i] for i in 1:N];\n",
    "    [at_t1_d[i] for i in 1:N]\n",
    "]\n",
    "[Symbolics.derivative(total_loss_sym, p) for p in ode_outs]"
   ]
  },
  {
   "cell_type": "code",
   "execution_count": null,
   "metadata": {},
   "outputs": [],
   "source": [
    "S = sensitivity(ode_sys, par_for_sym.p)"
   ]
  },
  {
   "cell_type": "code",
   "execution_count": null,
   "metadata": {},
   "outputs": [],
   "source": [
    "plot(sol.t, vec2mat(sol.u)[:,1:end])"
   ]
  },
  {
   "cell_type": "code",
   "execution_count": null,
   "metadata": {},
   "outputs": [],
   "source": [
    "n_losses=4\n",
    "include(\"SymbolicOps.jl\")\n",
    "target = N\n",
    "crn = create_reactions(N)\n",
    "ode_crn = convert(ODESystem, crn)\n",
    "np = count_parameters(N)\n",
    "t0 = 10.\n",
    "t1 = 20.\n",
    "input = 1.\n",
    "perturbation = 1.\n",
    "pars_v = [rand() for i in 1:np]\n",
    "pars_l = assemble_opt_parameters_and_varables(pars_v, N)\n",
    "# function prepare_args(sol, target, t0, t1, pars_l)\n",
    "#     return [\n",
    "#         (\n",
    "#             eval = sensitivity_loss_eval,\n",
    "#             sym = sensitivity_loss_symbolic(1),\n",
    "#             args = (sol, target, t0, 0.2, 0.5), # sol, target, t0, p, d\n",
    "#             weight = 1.\n",
    "#         ),\n",
    "#         (\n",
    "#             eval = steady_state_loss_eval,\n",
    "#             sym = steady_state_loss_symbolic(1),\n",
    "#             args = (sol, t0, t1, 0.5), # sol, t0, t1, f_ss\n",
    "#             weight = 1.\n",
    "#         ),\n",
    "#         (\n",
    "#             eval = L1_loss_eval,\n",
    "#             sym = L1_loss_symbolic(N, pars_l.p), # N, p\n",
    "#             args = ([pars_l.p]), # p\n",
    "#             weight = 0.01\n",
    "#         ),\n",
    "#         (\n",
    "#             eval = adaptation_loss_eval,\n",
    "#             sym = adaptation_loss_symbolic(1), # N\n",
    "#             args = (sol, target, t0, t1), # sol, target, t0, t1\n",
    "#             weight = 1.\n",
    "#         )\n",
    "#     ]\n",
    "# end\n",
    "\n",
    "# function evaluate_the_loss(sol, target, t0, t1, parameters)\n",
    "#     losses_arguments = prepare_args(sol, target, t0, t1, parameters)\n",
    "#     total_loss_sym = total_loss_symbolic(losses_arguments)\n",
    "#     return total_loss_eval(losses_arguments)\n",
    "# end\n",
    "\n",
    "sol = run(crn, pars_v, pars_l, 1, 1., t0, t1)\n",
    "evaluate_the_loss(sol, target, t0, t1, pars_l)\n",
    "S = sensitivity(ode_crn, pars_l.p)\n"
   ]
  },
  {
   "cell_type": "code",
   "execution_count": null,
   "metadata": {},
   "outputs": [],
   "source": [
    "jacobian_pars(ode_crn, sol, N, t0, t1, pars_l.p, 0.5, 0.5)"
   ]
  },
  {
   "cell_type": "code",
   "execution_count": null,
   "metadata": {},
   "outputs": [],
   "source": [
    "size(S)"
   ]
  },
  {
   "cell_type": "code",
   "execution_count": null,
   "metadata": {},
   "outputs": [],
   "source": [
    "\n",
    "extended_ode = make_sensitivity_ode(ode_crn, par_for_sym.p)\n",
    "\n",
    "# function label(sol, var_to_name)\n",
    "#     m = vec2mat(sol.u)\n",
    "#     u = [] \n",
    "#     i=1\n",
    "#     for (k,v) in var_to_name\n",
    "#         if length(string(k))<2 || !(string(k)[1:2] == \"k_\")\n",
    "#             push!(u, k => m[:,i])\n",
    "#             i+=1\n",
    "#         end\n",
    "#     end\n",
    "#     return (\n",
    "#         t = sol.t,\n",
    "#         u = Dict(u)\n",
    "#     )\n",
    "# end\n",
    "\n",
    "# function label_with(var_to_name)\n",
    "#     function l(sol_u)\n",
    "#         u = [] \n",
    "#         i=1\n",
    "#         for (k,v) in var_to_name\n",
    "#             if length(string(k))<2 || !(string(k)[1:2] == \"k_\")\n",
    "#                 push!(u, k => sol_u[i])\n",
    "#                 i+=1\n",
    "#             end\n",
    "#         end\n",
    "#         return Dict(u)\n",
    "#     end\n",
    "#     return l\n",
    "# end\n",
    "\n",
    "# old\n",
    "# function sensitivity_from_ode(ode, sol, t)\n",
    "#     return vec2mat([sol(t, idxs=[ode.var_to_name[Symbol(\"ks_$(i)_$(j)\")] for j in 1:count_parameters(N)]) for i in 1:N])\n",
    "# end\n",
    "\n",
    "#structural_simplify(extended_ode)\n",
    "ret = run_extended(extended_ode, pars_v, pars_l, 1., 1., t0, t1)\n",
    "#plot(ret.t, vec2mat(ret.u)[:,1:N+1])\n",
    "#plot(ret.t, ret.u[:x_1],legend=false)\n",
    "#extend_u0(extended_ode, pars_l.u0, pars_l.p, N).p\n",
    "#print(extended_ode)\n",
    "state_from_ode(extended_ode, ret, 1.)\n",
    "control_from_ode(extended_ode, ret, 1.)\n",
    "sensitivity_from_ode(extended_ode, ret, 1.)"
   ]
  },
  {
   "cell_type": "code",
   "execution_count": null,
   "metadata": {},
   "outputs": [],
   "source": [
    "extended_ode.systems"
   ]
  },
  {
   "cell_type": "code",
   "execution_count": null,
   "metadata": {},
   "outputs": [],
   "source": [
    "crn"
   ]
  },
  {
   "cell_type": "code",
   "execution_count": null,
   "metadata": {},
   "outputs": [],
   "source": [
    "sensitivity(ode_crn, pars_l.p)"
   ]
  },
  {
   "cell_type": "code",
   "execution_count": null,
   "metadata": {},
   "outputs": [],
   "source": [
    "sum(sensitivity(ode_crn, pars_l.p), dims=1)"
   ]
  },
  {
   "cell_type": "code",
   "execution_count": null,
   "metadata": {},
   "outputs": [],
   "source": [
    "for i in 1:100\n",
    "    sensitivity_from_ode(extended_ode, ret, 0.01)\n",
    "end"
   ]
  },
  {
   "cell_type": "code",
   "execution_count": null,
   "metadata": {},
   "outputs": [],
   "source": [
    "# for i in 1:100\n",
    "#     sensitivity_from_ode(extended_ode, ret, 0.01)\n",
    "# end\n",
    "sensitivity_from_ode(extended_ode, ret, 1.)"
   ]
  },
  {
   "cell_type": "code",
   "execution_count": null,
   "metadata": {},
   "outputs": [],
   "source": [
    "# function dict_indexes(ode)\n",
    "#     out = []\n",
    "#     for k in keys(ode.var_to_name)\n",
    "#         if length(string(k)) > 1 && string(k)[1:2] == \"ks\"\n",
    "#             splitted_str = split(string(k), \"_\")\n",
    "#             push!(out, (parse(Int, splitted_str[2]), parse(Int, splitted_str[3])))\n",
    "#         end\n",
    "#     end\n",
    "#     out\n",
    "# end\n",
    "\n"
   ]
  },
  {
   "cell_type": "code",
   "execution_count": null,
   "metadata": {},
   "outputs": [],
   "source": [
    "# function symbolic_loss(sol, target, t0, t1, parameters)\n",
    "#     losses_arguments = prepare_args(sol, target, t0, t1, parameters)\n",
    "#     total_loss_sym = total_loss_symbolic(losses_arguments)\n",
    "#     return total_loss_sym\n",
    "# end\n",
    "\n",
    "# s_loss = symbolic_loss(ret, 1, t0, t1, pars_l)"
   ]
  },
  {
   "cell_type": "code",
   "execution_count": null,
   "metadata": {},
   "outputs": [],
   "source": [
    "loss_derivatives[o_t0]"
   ]
  },
  {
   "cell_type": "code",
   "execution_count": null,
   "metadata": {},
   "outputs": [],
   "source": []
  },
  {
   "cell_type": "code",
   "execution_count": null,
   "metadata": {},
   "outputs": [],
   "source": [
    "steady_state_loss_symbolic(N)"
   ]
  },
  {
   "cell_type": "code",
   "execution_count": null,
   "metadata": {},
   "outputs": [],
   "source": [
    "import Pkg; Pkg.add(\"SimpleDiffEq\")"
   ]
  },
  {
   "attachments": {},
   "cell_type": "markdown",
   "metadata": {},
   "source": [
    "### Testing the whole thing"
   ]
  },
  {
   "cell_type": "code",
   "execution_count": null,
   "metadata": {},
   "outputs": [],
   "source": [
    "include(\"CRNExplore.jl\")\n",
    "include(\"SymbolicOps.jl\")\n",
    "target = N\n",
    "crn = create_reactions(N)\n",
    "ode_crn = convert(ODESystem, crn)\n",
    "np = count_parameters(N)\n",
    "t0 = 10.\n",
    "t1 = 20.\n",
    "input = 1.\n",
    "perturbation = 1.\n",
    "pars_v = [rand() for i in 1:np]\n",
    "pars_l = assemble_opt_parameters_and_varables(pars_v, N)\n",
    "weights = [1., 0., 0., 0.] #[10., 0.1, 0.01, 100.] this descends smoothly\n",
    "p=0.3\n",
    "d=1.\n",
    "f_ss=0.5\n",
    "args = prepare_args(nothing, target, t0, t1, pars_l, weights, p, d, f_ss)\n",
    "ext_ode = make_sensitivity_ode(ode_crn, pars_l.p)\n",
    "\n",
    "s_loss = total_loss_symbolic(args)\n",
    "\n",
    "loss_derivatives = Dict([\n",
    "        [\n",
    "            o_t0 => (Symbolics.derivative(s_loss, o_t0)),\n",
    "            o_t1 => (Symbolics.derivative(s_loss, o_t1)),\n",
    "            o_t0pdt => (Symbolics.derivative(s_loss, o_t0pdt))\n",
    "        ]\n",
    "        [at_t0[i] => Symbolics.derivative(s_loss, at_t0[i]) for i in 1:length(at_t0)];\n",
    "        [at_t1[i] => Symbolics.derivative(s_loss, at_t1[i]) for i in 1:length(at_t1)];\n",
    "        [at_t0_d[i] => Symbolics.derivative(s_loss, at_t0_d[i]) for i in 1:length(at_t0_d)];\n",
    "        [at_t1_d[i] => Symbolics.derivative(s_loss, at_t1_d[i]) for i in 1:length(at_t1_d)];\n",
    "])"
   ]
  },
  {
   "cell_type": "code",
   "execution_count": null,
   "metadata": {},
   "outputs": [],
   "source": [
    "s_loss"
   ]
  },
  {
   "cell_type": "code",
   "execution_count": null,
   "metadata": {},
   "outputs": [],
   "source": [
    "alpha = 0.1\n",
    "loss_args = args\n",
    "losses = []\n",
    "K = 5\n",
    "par_recoder = []\n",
    "grad_recoder = []\n",
    "#push!(losses, total_loss_eval(loss_args))\n",
    "push!(par_recoder, pars_v)\n",
    "push!(grad_recoder, zeros(np))\n",
    "grad_history = vec(zeros(length(pars_v)))\n",
    "grad_valid = vec(ones(length(pars_v)))\n",
    "for i in 1:30\n",
    "    grad = zeros(np)\n",
    "    push!(losses, 0.)\n",
    "    for _ in 1:K\n",
    "        sol = run_extended(ext_ode, pars_v, pars_l, input, perturbation, t0, t1)\n",
    "        loss_args = update_args(sol, 1, t0, t1, pars_l, loss_args, p, d, f_ss)\n",
    "        losses[end] += total_loss_eval(loss_args)\n",
    "        jacobian = jacobian_pars(ext_ode, loss_args, loss_derivatives, sol, N, t0, t1, pars_v, f_ss, d, [[Symbol(\"x_$(i)\") for i in 1:N]..., Symbol(\"U\")])\n",
    "        grad += vec([v.val for v in jacobian.sensitivity])\n",
    "    end\n",
    "    losses[end] /= K\n",
    "    grad /= K\n",
    "    grad = grad .* grad_valid\n",
    "    #grad = sign.(grad).*min.(abs.(grad), 1.)\n",
    "    #grad /= maximum(abs.(grad))\n",
    "    # upate params \n",
    "    #pars_v = max.(0., pars_v .- (alpha .* grad))\n",
    "    delta_g = adagrad_update_get_coefficient(pars_v, grad, grad_history, alpha)\n",
    "    pars_v = max.(0., pars_v - (delta_g .* grad)).*grad_valid\n",
    "    grad_valid = pars_v .> 0.\n",
    "    pars_l = assemble_opt_parameters_and_varables(pars_v, N)\n",
    "    # sol, target, t0, t1, pars_l, old_args, p, d, f_ss\n",
    "    loss_args = update_args(nothing, 1, t0, t1, pars_l, loss_args, p, d, f_ss)\n",
    "    push!(par_recoder, pars_v)\n",
    "    push!(grad_recoder, grad)\n",
    "end"
   ]
  },
  {
   "cell_type": "code",
   "execution_count": null,
   "metadata": {},
   "outputs": [],
   "source": [
    "loss_derivatives[o_t0]"
   ]
  },
  {
   "cell_type": "code",
   "execution_count": null,
   "metadata": {},
   "outputs": [],
   "source": [
    "[0,0,1]'*sensitivity_from_ode(ode_sys, test_sol_full, t0) +\n",
    "[0,0,1]'*sensitivity_from_ode(ode_sys, test_sol_full, t1)"
   ]
  },
  {
   "cell_type": "code",
   "execution_count": null,
   "metadata": {},
   "outputs": [],
   "source": [
    "test_sol = run(crn, pars_v, pars_l, input, perturbation, t0, t1)\n",
    "test_sol_full = run_extended(ext_ode, pars_v, pars_l, input, perturbation, t0, t1)\n",
    "out = jacobian_pars(ext_ode, loss_args, loss_derivatives, test_sol, test_sol_full, N, t0, t1, pars_v, f_ss, d, [[Symbol(\"x_$(i)\") for i in 1:N]..., Symbol(\"U\")])\n",
    "out.fwd_pass\n",
    "\n",
    "Symbolics.substitute(loss_derivatives[o_t0], out.fwd_pass)\n",
    "out.sensitivity"
   ]
  },
  {
   "cell_type": "code",
   "execution_count": null,
   "metadata": {},
   "outputs": [],
   "source": [
    "plot(1:length(grad_recoder), vec2mat(grad_recoder), legend=false, title=\"Gradient\", xlabel=\"Iteration\", ylabel=\"Gradient\")"
   ]
  },
  {
   "cell_type": "code",
   "execution_count": null,
   "metadata": {},
   "outputs": [],
   "source": [
    "plot(1:length(par_recoder), vec2mat(par_recoder), legend=false, title=\"Parameters\", xlabel=\"Iteration\", ylabel=\"Parameter value\")"
   ]
  },
  {
   "cell_type": "code",
   "execution_count": null,
   "metadata": {},
   "outputs": [],
   "source": []
  },
  {
   "cell_type": "code",
   "execution_count": null,
   "metadata": {},
   "outputs": [],
   "source": [
    "plot(1:length(losses), [losses[i].val for i in 1:length(losses)])"
   ]
  },
  {
   "cell_type": "code",
   "execution_count": null,
   "metadata": {},
   "outputs": [],
   "source": [
    "sol = run_extended(ext_ode, pars_v, pars_l, input, perturbation, t0, t1)\n",
    "plot(sol.t, vec2mat(sol.u)[:,1:4])"
   ]
  },
  {
   "cell_type": "code",
   "execution_count": null,
   "metadata": {},
   "outputs": [],
   "source": [
    "plot(sol.t, vec2mat(sol.u)[:,3], legend=false, title=\"Output\", xlabel=\"Time\", ylabel=\"Concentration\", xrange=(0, 20))"
   ]
  },
  {
   "cell_type": "code",
   "execution_count": null,
   "metadata": {},
   "outputs": [],
   "source": [
    "extended_ode.var_to_name[:ks_1_1]"
   ]
  },
  {
   "cell_type": "code",
   "execution_count": null,
   "metadata": {},
   "outputs": [],
   "source": [
    "ModelingToolkit.get_iv(extended_ode)"
   ]
  },
  {
   "cell_type": "code",
   "execution_count": null,
   "metadata": {},
   "outputs": [],
   "source": [
    "# simple gd loop\n",
    "\n",
    "for i in 1:100\n",
    "    sol = run(crn, pars_v, pars_l, 1, 1., t0, t1)\n",
    "    loss = evaluate_the_loss(sol, target, t0, t1, pars_l)\n",
    "    grads = [Symbolics.derivative(loss, p) for p in ode_outs]\n",
    "    pars_v = [pars_v[i] - 0.01 * grads[i] for i in 1:np]\n",
    "    pars_l = assemble_opt_parameters_and_varables(pars_v, N)\n",
    "end"
   ]
  },
  {
   "cell_type": "code",
   "execution_count": null,
   "metadata": {},
   "outputs": [],
   "source": [
    "simulate("
   ]
  },
  {
   "cell_type": "code",
   "execution_count": null,
   "metadata": {},
   "outputs": [],
   "source": [
    "pars = assemble_opt_parameters_and_varables(optsol.pars[best_pars], N)"
   ]
  },
  {
   "cell_type": "code",
   "execution_count": null,
   "metadata": {},
   "outputs": [],
   "source": [
    "jacobian_pars(sol, t0, t1, par_for_sym.p)"
   ]
  },
  {
   "attachments": {},
   "cell_type": "markdown",
   "metadata": {},
   "source": [
    "### NFB vs IFF"
   ]
  },
  {
   "cell_type": "code",
   "execution_count": null,
   "metadata": {},
   "outputs": [],
   "source": [
    "using Symbolics\n",
    "using LinearAlgebra\n",
    "function joint_jacobian(i, j, jac, initial_conditions)\n",
    "    A_ij = substitute(jac[i, j], unsym_dict(initial_conditions))\n",
    "    return A_ij\n",
    "end\n",
    "A_21 = joint_jacobian(2, 1, jac, par_for_sym.u0)\n",
    "A_32 = joint_jacobian(3, 2, jac, par_for_sym.u0)\n",
    "A_22 = joint_jacobian(2, 2, jac, par_for_sym.u0)\n",
    "A_31 = joint_jacobian(3, 1, jac, par_for_sym.u0)\n",
    "A_22*A_31 - A_21*A_32"
   ]
  },
  {
   "cell_type": "code",
   "execution_count": null,
   "metadata": {},
   "outputs": [],
   "source": [
    "det(A_22*A_31 - A_21*A_32)"
   ]
  },
  {
   "cell_type": "code",
   "execution_count": null,
   "metadata": {},
   "outputs": [],
   "source": [
    "A_22*A_31"
   ]
  },
  {
   "cell_type": "code",
   "execution_count": null,
   "metadata": {},
   "outputs": [],
   "source": [
    "A_21*A_32"
   ]
  },
  {
   "attachments": {},
   "cell_type": "markdown",
   "metadata": {},
   "source": [
    "### More general sanity check"
   ]
  },
  {
   "cell_type": "code",
   "execution_count": null,
   "metadata": {},
   "outputs": [],
   "source": [
    "# make a Matrix\n",
    "DuA = [1. 0. 0.;]'\n",
    "h = [0. 0. 1.;]"
   ]
  },
  {
   "cell_type": "code",
   "execution_count": null,
   "metadata": {},
   "outputs": [],
   "source": [
    "phi = -h* det(jac) * inv(jac) * A\n",
    "substitute(phi, unsym_dict(par_for_sym.u0))"
   ]
  },
  {
   "cell_type": "code",
   "execution_count": null,
   "metadata": {},
   "outputs": [],
   "source": [
    "det"
   ]
  },
  {
   "cell_type": "code",
   "execution_count": null,
   "metadata": {},
   "outputs": [],
   "source": [
    "eval(x)"
   ]
  },
  {
   "attachments": {},
   "cell_type": "markdown",
   "metadata": {},
   "source": [
    "### Example: integration only "
   ]
  },
  {
   "cell_type": "code",
   "execution_count": null,
   "metadata": {},
   "outputs": [],
   "source": [
    "N = 3\n",
    "tspan = (0., 20.)\n",
    "np = count_parameters(N)\n",
    "p0 = rand(np)\n",
    "crn_p = assemble_opt_parameters_and_varables(p0, N)\n",
    "crn = create_reactions(N)\n",
    "prob = ODEProblem(crn, crn_p.u0, tspan, crn_p.p)\n",
    "input = 1.\n",
    "intensity = 1.\n",
    "perturb! = make_perturbation_event(input, intensity)\n",
    "reltol = 1e-5\n",
    "absto = 1e-5\n",
    "maxiters = 1000\n",
    "sol = integrate(prob, tspan, perturb!, reltol, absto, maxiters)\n",
    "plot(sol.t, sol.u[1,:])\n",
    "plot(sol.t, vec2mat(sol.u)[:,1:N], legend=false, title=\"Dynamics (npt=$(length(sol.t)))\")"
   ]
  },
  {
   "cell_type": "code",
   "execution_count": null,
   "metadata": {},
   "outputs": [],
   "source": [
    "integrate(prob, tspan, perturb!, reltol, absto, maxit)"
   ]
  },
  {
   "attachments": {},
   "cell_type": "markdown",
   "metadata": {},
   "source": [
    "### Evolution stuff"
   ]
  },
  {
   "cell_type": "code",
   "execution_count": null,
   "metadata": {},
   "outputs": [],
   "source": [
    "include(\"CRNevo.jl\")\n",
    "genetic_pool_size = 100\n",
    "elite = 20\n",
    "worst = 40\n",
    "death_rate = 0.1\n",
    "mutation_rate = 0.55\n",
    "gradient_mutation_rate = 0.05\n",
    "duplication_rate = 0.1\n",
    "crossover_rate = 0.2\n",
    "max_generations = 100\n",
    "loss_rep = 100\n",
    "p_cross = 0.5\n",
    "\n",
    "parameter_pool = [assemble_opt_parameters_and_varables([rand() for _ in 1:np], N) for _ in 1:genetic_pool_size]\n",
    "is_updated = [false for _ in 1:genetic_pool_size]\n",
    "fitness = [0. for _ in 1:genetic_pool_size]\n",
    "\n",
    "ALPHA = 0.1\n",
    "NITER = 30\n",
    "use_adagrad = true\n",
    "K = 20\n",
    "\n",
    "s_loss = stochastic_loss(K, prob, perturb!, tspan, target, tspan[2]/2., tspan[2], sensitivity_dt, sensitivity_offset, steady_d, l1, l2, l3, l4, absolute, rtol, atol, maxiters)\n",
    "mutate_with_GD = (p) -> gradient_descent(ALPHA, NITER, p, s_loss, true, false, 0.01/ALPHA, use_adagrad).minimizer\n",
    "\n",
    "dp = 0.01\n",
    "\n",
    "state = (pool = parameter_pool, is_updated = is_updated, fitness = fitness, history = (best_loss = [], mean_loss = []))\n",
    "print(\"done\")\n",
    "prob = ODEProblem(crn, parameter_pool[1].u0, tspan, parameter_pool[1].p)"
   ]
  },
  {
   "cell_type": "code",
   "execution_count": null,
   "metadata": {},
   "outputs": [],
   "source": [
    "using ProgressBars\n",
    "max_generations = 100\n",
    "for i in ProgressBar(1:max_generations)\n",
    "    state = evolve(crn, prob, s_loss, perturb!, state, tspan, dp, genetic_pool_size, elite, worst, death_rate, mutation_rate, gradient_mutation_rate, mutate_with_GD, duplication_rate, crossover_rate, p_cross, loss_rep)\n",
    "end"
   ]
  },
  {
   "cell_type": "code",
   "execution_count": null,
   "metadata": {},
   "outputs": [],
   "source": [
    "plot(state.history.best_loss, label=\"best loss\", xlabel=\"generation\", ylabel=\"loss\", title=\"Best loss vs generation\", lw=2, legend=:bottomright)\n",
    "plot!(state.history.mean_loss, label=\"mean loss\", lw=2, line=:dash)"
   ]
  },
  {
   "cell_type": "code",
   "execution_count": null,
   "metadata": {},
   "outputs": [],
   "source": [
    "using ModelingToolkit"
   ]
  },
  {
   "cell_type": "code",
   "execution_count": null,
   "metadata": {},
   "outputs": [],
   "source": [
    "ode_sys = convert(ODESystem, crn)"
   ]
  },
  {
   "cell_type": "code",
   "execution_count": null,
   "metadata": {},
   "outputs": [],
   "source": [
    "jac = calculate_jacobian(ode_sys)"
   ]
  },
  {
   "cell_type": "code",
   "execution_count": null,
   "metadata": {},
   "outputs": [],
   "source": [
    "[x[1] for x in crn_p.u0]"
   ]
  },
  {
   "cell_type": "code",
   "execution_count": null,
   "metadata": {},
   "outputs": [],
   "source": [
    "[Meta.parse(string(x[1])*\"(t)\") for x in crn_p.u0] "
   ]
  },
  {
   "cell_type": "code",
   "execution_count": null,
   "metadata": {},
   "outputs": [],
   "source": [
    "merge(crn_p.p, Dict([Meta.parse(string(x[1])*\"(t)\") for x in crn_p.u0] .=> [x[2] for x in crn_p.u0]), Dict([\"U\" => 1.0]) )"
   ]
  },
  {
   "cell_type": "code",
   "execution_count": null,
   "metadata": {},
   "outputs": [],
   "source": [
    "@variables testv_1 testv_2\n",
    "substitute(testv_1 + testv_2, Dict([eval(Meta.parse(\"testv_1\")) => 1.0, testv_2 => 2.0]))"
   ]
  },
  {
   "cell_type": "code",
   "execution_count": null,
   "metadata": {},
   "outputs": [],
   "source": [
    "substitute(k_1, Dict([\"k_1\" => 1.0]))"
   ]
  },
  {
   "cell_type": "code",
   "execution_count": null,
   "metadata": {},
   "outputs": [],
   "source": [
    "[Meta.parse(string(x[1])*\"(t)\") for x in crn_p.u0]"
   ]
  },
  {
   "cell_type": "code",
   "execution_count": null,
   "metadata": {},
   "outputs": [],
   "source": [
    "eval(Meta.parse(\"testv_1\"))"
   ]
  },
  {
   "cell_type": "code",
   "execution_count": null,
   "metadata": {},
   "outputs": [],
   "source": [
    "[eval(Meta.parse(string(x[1]))) for x in crn_p.u0]"
   ]
  },
  {
   "cell_type": "code",
   "execution_count": null,
   "metadata": {},
   "outputs": [],
   "source": [
    "unsym = (x) -> eval(Meta.parse(string(x)))\n",
    "unsym_dict = (d) -> Dict([unsym(k) => v for (k,v) in d])"
   ]
  },
  {
   "cell_type": "code",
   "execution_count": null,
   "metadata": {},
   "outputs": [],
   "source": [
    "substitute(jac, merge(unsym_dict(crn_p.p), unsym_dict(crn_p.u0)))"
   ]
  },
  {
   "cell_type": "code",
   "execution_count": null,
   "metadata": {},
   "outputs": [],
   "source": [
    "Symbolics.derivative(jac, [:x_1], p)"
   ]
  },
  {
   "cell_type": "code",
   "execution_count": null,
   "metadata": {},
   "outputs": [],
   "source": [
    "create_reactions(N)"
   ]
  }
 ],
 "metadata": {
  "kernelspec": {
   "display_name": "Julia 1.10.2",
   "language": "julia",
   "name": "julia-1.10"
  },
  "language_info": {
   "file_extension": ".jl",
   "mimetype": "application/julia",
   "name": "julia",
   "version": "1.10.2"
  },
  "orig_nbformat": 4
 },
 "nbformat": 4,
 "nbformat_minor": 2
}
