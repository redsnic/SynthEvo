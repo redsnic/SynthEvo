{
 "cells": [
  {
   "cell_type": "code",
   "execution_count": 1,
   "metadata": {},
   "outputs": [
    {
     "ename": "LoadError",
     "evalue": "LoadError: InterruptException:\nin expression starting at /Users/rossin/git/SynthEvo/CRNExplore.jl:1",
     "output_type": "error",
     "traceback": [
      "LoadError: InterruptException:\n",
      "in expression starting at /Users/rossin/git/SynthEvo/CRNExplore.jl:1\n",
      "\n",
      "Stacktrace:\n",
      "  [1] _include_from_serialized(pkg::Base.PkgId, path::String, ocachepath::String, depmods::Vector{Any})\n",
      "    @ Base ./loading.jl:1058\n",
      "  [2] _tryrequire_from_serialized(modkey::Base.PkgId, path::String, ocachepath::String, sourcepath::String, depmods::Vector{Any})\n",
      "    @ Base ./loading.jl:1481\n",
      "  [3] _require_search_from_serialized(pkg::Base.PkgId, sourcepath::String, build_id::UInt128)\n",
      "    @ Base ./loading.jl:1574\n",
      "  [4] _require(pkg::Base.PkgId, env::String)\n",
      "    @ Base ./loading.jl:1938\n",
      "  [5] __require_prelocked(uuidkey::Base.PkgId, env::String)\n",
      "    @ Base ./loading.jl:1812\n",
      "  [6] #invoke_in_world#3\n",
      "    @ ./essentials.jl:926 [inlined]\n",
      "  [7] invoke_in_world\n",
      "    @ ./essentials.jl:923 [inlined]\n",
      "  [8] _require_prelocked(uuidkey::Base.PkgId, env::String)\n",
      "    @ Base ./loading.jl:1803\n",
      "  [9] macro expansion\n",
      "    @ ./loading.jl:1790 [inlined]\n",
      " [10] macro expansion\n",
      "    @ ./lock.jl:267 [inlined]\n",
      " [11] __require(into::Module, mod::Symbol)\n",
      "    @ Base ./loading.jl:1753\n",
      " [12] #invoke_in_world#3\n",
      "    @ ./essentials.jl:926 [inlined]\n",
      " [13] invoke_in_world\n",
      "    @ ./essentials.jl:923 [inlined]\n",
      " [14] require(into::Module, mod::Symbol)\n",
      "    @ Base ./loading.jl:1746\n",
      " [15] include(fname::String)\n",
      "    @ Base.MainInclude ./client.jl:489\n",
      " [16] eval\n",
      "    @ ./boot.jl:385 [inlined]\n",
      " [17] include_string(mapexpr::typeof(REPL.softscope), mod::Module, code::String, filename::String)\n",
      "    @ Base ./loading.jl:2076\n",
      " [18] #invokelatest#2\n",
      "    @ ./essentials.jl:892 [inlined]\n",
      " [19] invokelatest\n",
      "    @ ./essentials.jl:889 [inlined]\n",
      " [20] (::VSCodeServer.var\"#198#199\"{VSCodeServer.NotebookRunCellArguments, String})()\n",
      "    @ VSCodeServer ~/.vscode/extensions/julialang.language-julia-1.47.2/scripts/packages/VSCodeServer/src/serve_notebook.jl:19\n",
      " [21] withpath(f::VSCodeServer.var\"#198#199\"{VSCodeServer.NotebookRunCellArguments, String}, path::String)\n",
      "    @ VSCodeServer ~/.vscode/extensions/julialang.language-julia-1.47.2/scripts/packages/VSCodeServer/src/repl.jl:249\n",
      " [22] notebook_runcell_request(conn::VSCodeServer.JSONRPC.JSONRPCEndpoint{Base.PipeEndpoint, Base.PipeEndpoint}, params::VSCodeServer.NotebookRunCellArguments)\n",
      "    @ VSCodeServer ~/.vscode/extensions/julialang.language-julia-1.47.2/scripts/packages/VSCodeServer/src/serve_notebook.jl:13\n",
      " [23] dispatch_msg(x::VSCodeServer.JSONRPC.JSONRPCEndpoint{Base.PipeEndpoint, Base.PipeEndpoint}, dispatcher::VSCodeServer.JSONRPC.MsgDispatcher, msg::Dict{String, Any})\n",
      "    @ VSCodeServer.JSONRPC ~/.vscode/extensions/julialang.language-julia-1.47.2/scripts/packages/JSONRPC/src/typed.jl:67\n",
      " [24] serve_notebook(pipename::String, outputchannel_logger::Base.CoreLogging.SimpleLogger; crashreporting_pipename::String)\n",
      "    @ VSCodeServer ~/.vscode/extensions/julialang.language-julia-1.47.2/scripts/packages/VSCodeServer/src/serve_notebook.jl:139\n",
      " [25] top-level scope\n",
      "    @ ~/.vscode/extensions/julialang.language-julia-1.47.2/scripts/notebook/notebook.jl:32"
     ]
    }
   ],
   "source": [
    "include(\"CRNevo.jl\")\n",
    "include(\"CRNExplore.jl\")\n",
    "include(\"SymbolicOps.jl\")\n",
    "\n",
    "# --- GA parameters\n",
    "genetic_pool_size = 1000\n",
    "elite = 100\n",
    "worst = 200\n",
    "death_rate = 0.05\n",
    "mutation_rate = 0.30\n",
    "gradient_mutation_rate = 0.01\n",
    "duplication_rate = 0.20\n",
    "crossover_rate = 0.\n",
    "max_generations = 100\n",
    "p_cross = 0.1\n",
    "\n",
    "# --- GD parameters\n",
    "\n",
    "# fixed, basic steps\n",
    "\n",
    "N = 3\n",
    "np = count_parameters(N)\n",
    "target = N\n",
    "crn = create_reactions(N)\n",
    "ode_crn = convert(ODESystem, crn)\n",
    "pars_l = assemble_opt_parameters_and_varables([0 for _ in 1:np], N) # just for the names\n",
    "ext_ode = make_sensitivity_ode(ode_crn, pars_l.p)\n",
    "t0 = 10.0\n",
    "t1 = 20.0\n",
    "\n",
    "# set up gd problem \n",
    "\n",
    "crn_info = (\n",
    "    crn = crn, \n",
    "    ode_crn = ode_crn,\n",
    "    ext_ode = ext_ode,\n",
    "    np = np,\n",
    "    N = N,\n",
    "    target = target\n",
    ")\n",
    "\n",
    "# set up the loss function\n",
    "\n",
    "gd_loss_options = (\n",
    "    weights = [1., 10., 0.2, 1.], #[2.0, 1.0/3, 1.0/80, 100.0], #[1., 0.01, 0.01, 1.] # this descends smoothly\n",
    "    p=1.0,\n",
    "    d=0.5,\n",
    "    f_ss=0.5,\n",
    "    norm_for_sensitivity_loss = 1, \n",
    "    norm_for_ss_loss = 1,\n",
    "    norm_for_adaptation_loss = 1,\n",
    "    n_losses = 4\n",
    ")\n",
    "\n",
    "loss_blueprint = prepare_args(nothing, target, t0, t1, pars_l, gd_loss_options.weights, gd_loss_options.p, gd_loss_options.d, gd_loss_options.f_ss, gd_loss_options.norm_for_sensitivity_loss, gd_loss_options.norm_for_ss_loss, gd_loss_options.norm_for_adaptation_loss)\n",
    "\n",
    "gd_options = (\n",
    "    alpha = 0.1,\n",
    "    n_iter = 10,\n",
    "    use_pruning_heuristic = false,\n",
    "    clip_value = nothing,\n",
    "    use_gradient_normalization = false,\n",
    "    use_adagrad = true, # overrides use_adam!\n",
    "    use_adam = false,\n",
    "    use_random_perturbation = false,\n",
    "    verbose = false,\n",
    "    # placed here for convenience, should be in gd_loss_options\n",
    "    symbolic_derivatives_of_loss = compute_symbolic_derivatives_of_loss(total_loss_symbolic(loss_blueprint))\n",
    ")\n",
    "\n",
    "gd_perturbation_options = (\n",
    "    t0 = t0,\n",
    "    t1 = t1,\n",
    "    input = 1.,\n",
    "    perturbation = 1.,\n",
    "    K = 5,\n",
    "    perturbation_list = [-1., -0.75, -0.5, -0.25, 0.25, 0.5, 0.75, 1., 2., 3., 4., 5., 6., 7., 8., 9., 10.],\n",
    "    loss_blueprint = loss_blueprint\n",
    ")\n",
    "\n",
    "\n",
    "#s_loss = stochastic_loss(K, prob, perturb!, tspan, target, tspan[2]/2., tspan[2], sensitivity_dt, sensitivity_offset, steady_d, l1, l2, l3, l4, absolute, rtol, atol, maxiters)\n",
    "#mutate_with_GD = (p) -> gradient_descent(ALPHA, NITER, p, s_loss, true, false, 0.01/ALPHA, use_adagrad).minimizer\n",
    "mutate_with_GD = (p) -> symbolic_gradient_descent(p, crn_info, gd_options, gd_perturbation_options, gd_loss_options).parameters\n",
    "function make_ev_loss(crn_info, gd_options, gd_perturbation_options, gd_loss_options)\n",
    "    function ev_loss(p)\n",
    "        pars_l = assemble_opt_parameters_and_varables(p, crn_info.N)\n",
    "        solutions = run_with_fixed_perturbations(crn_info.crn, p, pars_l, gd_perturbation_options.input,  gd_perturbation_options.perturbation_list, gd_perturbation_options.t0, gd_perturbation_options.t1)\n",
    "        losses = zeros(length(solutions))\n",
    "        Threads.@threads for i in 1:length(solutions)\n",
    "            loss_args = update_args(solutions[i], crn_info.target, gd_perturbation_options.t0, gd_perturbation_options.t1, pars_l, gd_perturbation_options.loss_blueprint, gd_loss_options.p, gd_loss_options.d, gd_loss_options.f_ss) \n",
    "            losses[i] = total_loss_eval(loss_args).total.val\n",
    "        end\n",
    "        return sum(losses)/length(gd_perturbation_options.perturbation_list)\n",
    "    end\n",
    "    return ev_loss\n",
    "end\n",
    "loss_function = make_ev_loss(crn_info, gd_options, gd_perturbation_options, gd_loss_options)\n",
    "print(\"setup done!\")\n"
   ]
  },
  {
   "cell_type": "code",
   "execution_count": 2,
   "metadata": {},
   "outputs": [],
   "source": [
    "# for i in 1:100\n",
    "#     loss_function([1 for _ in 1:np])\n",
    "# end"
   ]
  },
  {
   "cell_type": "code",
   "execution_count": 3,
   "metadata": {},
   "outputs": [
    {
     "name": "stdout",
     "output_type": "stream",
     "text": [
      "Testing symbolic gradient descent\n"
     ]
    },
    {
     "ename": "UndefVarError",
     "evalue": "UndefVarError: `np` not defined",
     "output_type": "error",
     "traceback": [
      "UndefVarError: `np` not defined\n",
      "\n",
      "Stacktrace:\n",
      " [1] top-level scope\n",
      "   @ ~/git/SynthEvo/CRN_symEVO.ipynb:2"
     ]
    }
   ],
   "source": [
    "println(\"Testing symbolic gradient descent\")\n",
    "println(loss_function([1 for _ in 1:np]))\n",
    "test_p = symbolic_gradient_descent([1 for _ in 1:np], crn_info, gd_options, gd_perturbation_options, gd_loss_options)\n",
    "println(loss_function(test_p.parameters))"
   ]
  },
  {
   "attachments": {},
   "cell_type": "markdown",
   "metadata": {},
   "source": [
    "initialize the GA problem "
   ]
  },
  {
   "cell_type": "code",
   "execution_count": 4,
   "metadata": {},
   "outputs": [
    {
     "ename": "UndefVarError",
     "evalue": "UndefVarError: `genetic_pool_size` not defined",
     "output_type": "error",
     "traceback": [
      "UndefVarError: `genetic_pool_size` not defined\n",
      "\n",
      "Stacktrace:\n",
      " [1] top-level scope\n",
      "   @ ~/git/SynthEvo/CRN_symEVO.ipynb:1"
     ]
    }
   ],
   "source": [
    "parameter_pool = [[rand() for _ in 1:np] for _ in 1:genetic_pool_size]\n",
    "is_updated = [false for _ in 1:genetic_pool_size]\n",
    "fitness = [0. for _ in 1:genetic_pool_size]\n",
    "\n",
    "dp = 0.05\n",
    "\n",
    "state = (pool = parameter_pool, is_updated = is_updated, fitness = fitness, history = (best_loss = [], mean_loss = []))\n",
    "print(\"done\")"
   ]
  },
  {
   "cell_type": "code",
   "execution_count": 5,
   "metadata": {},
   "outputs": [
    {
     "name": "stderr",
     "output_type": "stream",
     "text": [
      "\r0.0%┣                                           ┫ 0/1.0k [00:04<-59:-19, -4s/it]"
     ]
    },
    {
     "name": "stderr",
     "output_type": "stream",
     "text": [
      "\n"
     ]
    },
    {
     "ename": "UndefVarError",
     "evalue": "UndefVarError: `crn` not defined",
     "output_type": "error",
     "traceback": [
      "UndefVarError: `crn` not defined\n",
      "\n",
      "Stacktrace:\n",
      " [1] top-level scope\n",
      "   @ ~/git/SynthEvo/CRN_symEVO.ipynb:4"
     ]
    }
   ],
   "source": [
    "using ProgressBars\n",
    "max_generations = 1000\n",
    "for i in ProgressBar(1:max_generations)\n",
    "    state = symbolic_evolve(crn, loss_function, state, dp, genetic_pool_size, elite, worst, death_rate, mutation_rate, gradient_mutation_rate, mutate_with_GD, duplication_rate, crossover_rate, p_cross)\n",
    "end"
   ]
  },
  {
   "cell_type": "code",
   "execution_count": 6,
   "metadata": {},
   "outputs": [
    {
     "ename": "UndefVarError",
     "evalue": "UndefVarError: `state` not defined",
     "output_type": "error",
     "traceback": [
      "UndefVarError: `state` not defined\n",
      "\n",
      "Stacktrace:\n",
      " [1] top-level scope\n",
      "   @ ~/git/SynthEvo/CRN_symEVO.ipynb:1"
     ]
    }
   ],
   "source": [
    "minimum(state.history.mean_loss)"
   ]
  },
  {
   "cell_type": "code",
   "execution_count": 7,
   "metadata": {},
   "outputs": [
    {
     "ename": "UndefVarError",
     "evalue": "UndefVarError: `state` not defined",
     "output_type": "error",
     "traceback": [
      "UndefVarError: `state` not defined\n",
      "\n",
      "Stacktrace:\n",
      " [1] top-level scope\n",
      "   @ ~/git/SynthEvo/CRN_symEVO.ipynb:1"
     ]
    }
   ],
   "source": [
    "plot(state.history.best_loss, label=\"best loss\", xlabel=\"generation\", ylabel=\"loss\", title=\"Best loss vs generation\", lw=2, legend=:topright)\n",
    "plot!(state.history.mean_loss, label=\"mean loss\", lw=2, line=:dash)"
   ]
  },
  {
   "cell_type": "code",
   "execution_count": 8,
   "metadata": {},
   "outputs": [
    {
     "ename": "UndefVarError",
     "evalue": "UndefVarError: `state` not defined",
     "output_type": "error",
     "traceback": [
      "UndefVarError: `state` not defined\n",
      "\n",
      "Stacktrace:\n",
      " [1] top-level scope\n",
      "   @ ~/git/SynthEvo/CRN_symEVO.ipynb:1"
     ]
    }
   ],
   "source": [
    "best = argmin(state.fitness)\n",
    "println(\"Best loss: \", state.fitness[best])"
   ]
  },
  {
   "cell_type": "code",
   "execution_count": 9,
   "metadata": {},
   "outputs": [
    {
     "ename": "UndefVarError",
     "evalue": "UndefVarError: `state` not defined",
     "output_type": "error",
     "traceback": [
      "UndefVarError: `state` not defined\n",
      "\n",
      "Stacktrace:\n",
      " [1] top-level scope\n",
      "   @ ~/git/SynthEvo/CRN_symEVO.ipynb:2"
     ]
    }
   ],
   "source": [
    "perturb = 2\n",
    "opt_index = argmin(state.fitness)\n",
    "#opt_index = 10\n",
    "\n",
    "opt_pars_v = state.pool[opt_index]\n",
    "opt_pars_l = assemble_opt_parameters_and_varables(opt_pars_v, N)\n",
    "\n",
    "sol = run_extended_with_fixed_perturbations(ext_ode, opt_pars_l, 1., [ perturb ], t0, t1)[1]\n",
    "println(\"Optimal index: \", opt_index)\n",
    "println(\"Adaptation error: \", abs(sol(t0)[3] - sol(t1)[3]))\n",
    "println(\"sensitivity: \", abs(sol(t0)[3] - sol(t0+0.5)[3]), \" and  loss : \", abs(abs(sol(t0)[3] - sol(t0+0.5)[3]) - 0.01))\n",
    "plot(sol.t, vec2mat(sol.u)[:,1:4], label=[\"X1\" \"X2\" \"X3 (output)\" \"U\"], lw=1.5, title=\"Dynamics of the optimal particle\", xlabel=\"time\", ylabel=\"concentration\")"
   ]
  },
  {
   "cell_type": "code",
   "execution_count": 10,
   "metadata": {},
   "outputs": [
    {
     "ename": "UndefVarError",
     "evalue": "UndefVarError: `sol` not defined",
     "output_type": "error",
     "traceback": [
      "UndefVarError: `sol` not defined\n",
      "\n",
      "Stacktrace:\n",
      " [1] top-level scope\n",
      "   @ ~/git/SynthEvo/CRN_symEVO.ipynb:2"
     ]
    }
   ],
   "source": [
    "# zoom on reaction 3\n",
    "plot(sol.t, vec2mat(sol.u)[:,3], label=\"X3 Output\", xlabel=\"time\", ylabel=\"concentration\", title=\"Dynamics of the optimal particle (zoom)\", lw=2, color=3)\n",
    "xlims!(t0-1., t0+2)\n",
    "ylims!(sol(t0-1)[3]-sol(t0-1)[3]*0.3, sol(t0+2)[3]+sol(t0+2)[3]*0.3)"
   ]
  },
  {
   "cell_type": "code",
   "execution_count": 11,
   "metadata": {},
   "outputs": [
    {
     "ename": "UndefVarError",
     "evalue": "UndefVarError: `gd_options` not defined",
     "output_type": "error",
     "traceback": [
      "UndefVarError: `gd_options` not defined\n",
      "\n",
      "Stacktrace:\n",
      " [1] top-level scope\n",
      "   @ ~/git/SynthEvo/CRN_symEVO.ipynb:1"
     ]
    }
   ],
   "source": [
    "gd_options_for_output = (\n",
    "    alpha = gd_options.alpha,\n",
    "    n_iter = gd_options.n_iter,\n",
    "    use_pruning_heuristic = gd_options.use_pruning_heuristic,\n",
    "    clip_value = gd_options.clip_value,\n",
    "    use_gradient_normalization = gd_options.use_gradient_normalization,\n",
    "    use_adagrad = gd_options.use_adagrad, # overrides use_adam!\n",
    "    use_adam = gd_options.use_adam,\n",
    "    use_random_perturbation = gd_options.use_random_perturbation,\n",
    "    verbose = true,\n",
    "    # placed here for convenience, should be in gd_loss_options\n",
    "    symbolic_derivatives_of_loss = gd_options.symbolic_derivatives_of_loss\n",
    ")\n",
    "out = symbolic_gradient_descent(state.pool[best], crn_info, gd_options_for_output, gd_perturbation_options, gd_loss_options)"
   ]
  },
  {
   "cell_type": "code",
   "execution_count": 12,
   "metadata": {},
   "outputs": [
    {
     "ename": "UndefVarError",
     "evalue": "UndefVarError: `out` not defined",
     "output_type": "error",
     "traceback": [
      "UndefVarError: `out` not defined\n",
      "\n",
      "Stacktrace:\n",
      " [1] top-level scope\n",
      "   @ ~/git/SynthEvo/CRN_symEVO.ipynb:1"
     ]
    }
   ],
   "source": [
    "plot(1:length(out.loss_tape), out.loss_tape, label=\"loss\", xlabel=\"iteration\", ylabel=\"loss\", title=\"Loss vs iteration\", lw=2, legend=:bottomright)"
   ]
  },
  {
   "cell_type": "code",
   "execution_count": 13,
   "metadata": {},
   "outputs": [
    {
     "ename": "UndefVarError",
     "evalue": "UndefVarError: `state` not defined",
     "output_type": "error",
     "traceback": [
      "UndefVarError: `state` not defined\n",
      "\n",
      "Stacktrace:\n",
      " [1] top-level scope\n",
      "   @ ~/git/SynthEvo/CRN_symEVO.ipynb:12"
     ]
    }
   ],
   "source": [
    "using Symbolics\n",
    "using LinearAlgebra\n",
    "function joint_jacobian(i, j, jac, initial_conditions)\n",
    "    A_ij = substitute(jac[i, j], unsym_dict(initial_conditions))\n",
    "    return A_ij\n",
    "end\n",
    "\n",
    "opt_index = 1\n",
    "# opt_index = argmin(predictions)\n",
    "# opt_index = length(loss_tape)\n",
    "\n",
    "opt_pars_v = state.pool[opt_index]\n",
    "opt_pars_l = assemble_opt_parameters_and_varables(opt_pars_v, N)\n",
    "\n",
    "jac = Symbolics.substitute(calculate_jacobian(ode_crn), unsym_dict(opt_pars_l.p))\n",
    "\n",
    "perturb = 2.5\n",
    "steady_state_after_perturbation = run_extended_with_fixed_perturbations(ext_ode, opt_pars_l, 1., [ perturb ], t0, t1)[1](t1)[1:3]\n",
    "steady_state_after_perturbation = [\n",
    "    :x_1 => steady_state_after_perturbation[1],\n",
    "    :x_2 => steady_state_after_perturbation[2],\n",
    "    :x_3 => steady_state_after_perturbation[3]\n",
    "]\n",
    "\n",
    "A_21 = joint_jacobian(2, 1, jac, steady_state_after_perturbation)\n",
    "A_32 = joint_jacobian(3, 2, jac, steady_state_after_perturbation)\n",
    "A_22 = joint_jacobian(2, 2, jac, steady_state_after_perturbation)\n",
    "A_31 = joint_jacobian(3, 1, jac, steady_state_after_perturbation)\n",
    "\n",
    "println(\"A_21 = \", A_21)\n",
    "println(\"A_32 = \", A_32)\n",
    "println(\"A_22 = \", A_22)\n",
    "println(\"A_31 = \", A_31)\n",
    "println(\"A_22*A_31 = \", A_22*A_31)\n",
    "println(\"A_21*A_32 = \", A_21*A_32)\n",
    "println(\"A_22*A_31 - A_21*A_32 = \", A_22*A_31 - A_21*A_32)"
   ]
  },
  {
   "cell_type": "code",
   "execution_count": 14,
   "metadata": {},
   "outputs": [],
   "source": [
    "# homeostatic_coefs_A21_A32 = []\n",
    "# homeostatic_coefs_A22_A31 = []\n",
    "# homeostatic_coefs = []\n",
    "\n",
    "# for par_set in state.pool\n",
    "#     opt_pars_v = par_set\n",
    "#     opt_pars_l = assemble_opt_parameters_and_varables(opt_pars_v, N)\n",
    "\n",
    "#     jac = Symbolics.substitute(calculate_jacobian(ode_crn), unsym_dict(opt_pars_l.p))\n",
    "\n",
    "#     perturb = 2.5\n",
    "#     steady_state_after_perturbation = run_extended_with_fixed_perturbations(ext_ode, opt_pars_l, 1., [ perturb ], t0, t1)[1](t1)[1:3]\n",
    "#     steady_state_after_perturbation = [\n",
    "#         :x_1 => steady_state_after_perturbation[1],\n",
    "#         :x_2 => steady_state_after_perturbation[2],\n",
    "#         :x_3 => steady_state_after_perturbation[3]\n",
    "#     ]\n",
    "\n",
    "#     A_21 = joint_jacobian(2, 1, jac, steady_state_after_perturbation)\n",
    "#     A_32 = joint_jacobian(3, 2, jac, steady_state_after_perturbation)\n",
    "#     A_22 = joint_jacobian(2, 2, jac, steady_state_after_perturbation)\n",
    "#     A_31 = joint_jacobian(3, 1, jac, steady_state_after_perturbation)\n",
    "\n",
    "#     push!(homeostatic_coefs_A21_A32, A_21*A_32)\n",
    "#     push!(homeostatic_coefs_A22_A31, A_22*A_31)\n",
    "#     push!(homeostatic_coefs, A_22*A_31 - A_21*A_32)\n",
    "# end"
   ]
  },
  {
   "cell_type": "code",
   "execution_count": 15,
   "metadata": {},
   "outputs": [],
   "source": [
    "# histogram([x.val for x in homeostatic_coefs], label=false, xlabel=\"Homeostatic coefficient\", ylabel=\"frequency\", title=\"Homeostatic coefficient distribution\", lw=0.5, legend=:bottomright)"
   ]
  },
  {
   "cell_type": "code",
   "execution_count": 16,
   "metadata": {},
   "outputs": [],
   "source": [
    "# histogram([x.val for x in homeostatic_coefs_A21_A32], label=false, xlabel=\"A_21*A_32\", ylabel=\"frequency\", title=\"Homeostatic coefficient distribution\", lw=1, legend=:bottomright)"
   ]
  },
  {
   "cell_type": "code",
   "execution_count": 17,
   "metadata": {},
   "outputs": [],
   "source": [
    "# histogram([x.val for x in homeostatic_coefs_A22_A31], label=false, xlabel=\"A_21*A_32\", ylabel=\"frequency\", title=\"Homeostatic coefficient distribution\", lw=0.5, legend=:bottomright)"
   ]
  },
  {
   "cell_type": "code",
   "execution_count": 18,
   "metadata": {},
   "outputs": [],
   "source": [
    "# histogram([ x.val for x in homeostatic_coefs_A21_A32 + homeostatic_coefs_A22_A31], xlabel=\"A21_A32 + A22_A31\", ylabel=\"frequency\", title=\"Homeostatic coefficient distribution\", lw=1, legend=false)"
   ]
  },
  {
   "cell_type": "code",
   "execution_count": 19,
   "metadata": {},
   "outputs": [],
   "source": [
    "# plot([x.val for x in homeostatic_coefs_A22_A31], [x.val for x in homeostatic_coefs_A21_A32], seriestype = :scatter, xlabel=\"A_22*A_31\", ylabel=\"A_21*A_32\", title=\"Components of the homeostatic coefficient\", lw=2, legend=:bottomright, alpha=0.5)\n",
    "# xlims!(-85,0)\n",
    "# ylims!(-60,0)"
   ]
  },
  {
   "cell_type": "code",
   "execution_count": 20,
   "metadata": {},
   "outputs": [
    {
     "ename": "UndefVarError",
     "evalue": "UndefVarError: `best` not defined",
     "output_type": "error",
     "traceback": [
      "UndefVarError: `best` not defined\n",
      "\n",
      "Stacktrace:\n",
      " [1] top-level scope\n",
      "   @ ~/git/SynthEvo/CRN_symEVO.ipynb:1"
     ]
    }
   ],
   "source": [
    "opt_index_options = [best, rand(1:length(state.pool)), 1]\n",
    "opt_index_options_labels = [\"min loss\", \"$(opt_index_options[2])\", \"1\"]\n",
    "opt_index_options_colors = [:red, :green, :blue]\n",
    "\n",
    "hists = []\n",
    "for i in 1:length(opt_index_options)\n",
    "    opt_index = opt_index_options[i]\n",
    "    opt_pars_v = state.pool[opt_index]\n",
    "    opt_pars_l = assemble_opt_parameters_and_varables(opt_pars_v, 3)\n",
    "    h = histogram(opt_pars_v, label=opt_index_options_labels[i], xlabel=\"Parameter value\", ylabel=\"Frequency\", title=opt_index_options_labels[i], lw=2, legend=false, color=opt_index_options_colors[i], bins=20)\n",
    "    push!(hists, h)\n",
    "end\n",
    "plot(hists..., layout=(1,3))"
   ]
  },
  {
   "cell_type": "code",
   "execution_count": 21,
   "metadata": {},
   "outputs": [],
   "source": [
    "# using Pkg; Pkg.add(\"JLD2\")"
   ]
  },
  {
   "cell_type": "code",
   "execution_count": 22,
   "metadata": {},
   "outputs": [
    {
     "ename": "UndefVarError",
     "evalue": "UndefVarError: `state` not defined",
     "output_type": "error",
     "traceback": [
      "UndefVarError: `state` not defined\n",
      "\n",
      "Stacktrace:\n",
      " [1] top-level scope\n",
      "   @ ~/git/SynthEvo/CRN_symEVO.ipynb:3"
     ]
    }
   ],
   "source": [
    "using JLD2\n",
    "\n",
    "save_object(\"Ultra-Sensitivity.jld2\", Dict(\n",
    "    \"state\" => state,\n",
    "    # all parameters \n",
    "    \"ga_options\" => Dict(\n",
    "        genetic_pool_size => genetic_pool_size,\n",
    "        elite => elite,\n",
    "        worst => worst,\n",
    "        death_rate => death_rate,\n",
    "        mutation_rate => mutation_rate,\n",
    "        gradient_mutation_rate => gradient_mutation_rate,\n",
    "        duplication_rate => duplication_rate,\n",
    "        crossover_rate => crossover_rate,\n",
    "        max_generations => max_generations,\n",
    "        p_cross => p_cross\n",
    "    ),\n",
    "    \"crn_info\" => crn_info,\n",
    "    \"gd_loss_options\" => gd_loss_options,\n",
    "    \"gd_options\" => gd_options,\n",
    "    \"gd_perturbation_options\" => gd_perturbation_options\n",
    "))    \n"
   ]
  },
  {
   "cell_type": "code",
   "execution_count": 23,
   "metadata": {},
   "outputs": [],
   "source": [
    "# test_load = load_object(\"Ultra-Sensitivity.jld2\") "
   ]
  }
 ],
 "metadata": {
  "kernelspec": {
   "display_name": "Julia 1.10.2",
   "language": "julia",
   "name": "julia-1.10"
  },
  "language_info": {
   "file_extension": ".jl",
   "mimetype": "application/julia",
   "name": "julia",
   "version": "1.10.2"
  },
  "orig_nbformat": 4
 },
 "nbformat": 4,
 "nbformat_minor": 2
}
